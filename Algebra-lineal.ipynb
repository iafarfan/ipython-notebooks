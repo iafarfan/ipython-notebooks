{
 "metadata": {
  "name": ""
 },
 "nbformat": 3,
 "nbformat_minor": 0,
 "worksheets": [
  {
   "cells": [
    {
     "cell_type": "heading",
     "level": 3,
     "metadata": {},
     "source": [
      "Introducci\u00f3n al Algebra Lineal con Python."
     ]
    },
    {
     "cell_type": "markdown",
     "metadata": {},
     "source": [
      "Apuntes del tema: Linear Algebra & 2D Geomtry. Curso: AUTONAVx Autonomous Navigation for Flying Robots (https://courses.edx.org/courses/TUMx/AUTONAVx/2T2014)."
     ]
    },
    {
     "cell_type": "markdown",
     "metadata": {},
     "source": [
      "Usaremos el paquete Numpy para realizar diferentes operaciones con matrices, vectores fila y vectores columna: \n",
      "\n",
      "- Inspeccionar las dimensiones de un vector o matriz\n",
      "- Suma, resta y multiplicaci\u00f3n\n",
      "- Transpuesta\n",
      "- Producto cruz\n",
      "- Producto punto"
     ]
    },
    {
     "cell_type": "code",
     "collapsed": false,
     "input": [
      "# Por brevedad y convenci\u00f3n el paquete Numpy se importa asi:\n",
      "import numpy as np"
     ],
     "language": "python",
     "metadata": {},
     "outputs": [],
     "prompt_number": 58
    },
    {
     "cell_type": "code",
     "collapsed": false,
     "input": [
      "# create a column vector | creando de un vector columna\n",
      "col_vec = np.array([[1], [2]])\n",
      "print \"column vector\"\n",
      "print col_vec\n"
     ],
     "language": "python",
     "metadata": {},
     "outputs": [
      {
       "output_type": "stream",
       "stream": "stdout",
       "text": [
        "column vector\n",
        "[[1]\n",
        " [2]]\n"
       ]
      }
     ],
     "prompt_number": 15
    },
    {
     "cell_type": "code",
     "collapsed": false,
     "input": [
      "# create a row vector | creando un vector fila\n",
      "row_vec = np.array([[1, 2]])\n",
      "print \"row vector\"\n",
      "print row_vec"
     ],
     "language": "python",
     "metadata": {},
     "outputs": [
      {
       "output_type": "stream",
       "stream": "stdout",
       "text": [
        "row vector\n",
        "[[1 2]]\n"
       ]
      }
     ],
     "prompt_number": 16
    },
    {
     "cell_type": "code",
     "collapsed": false,
     "input": [
      "# create a matrix | creando una matriz\n",
      "mat = np.array([[1, 2], [3, 4]])\n",
      "print \"matrix\"\n",
      "print mat"
     ],
     "language": "python",
     "metadata": {},
     "outputs": [
      {
       "output_type": "stream",
       "stream": "stdout",
       "text": [
        "matrix\n",
        "[[1 2]\n",
        " [3 4]]\n"
       ]
      }
     ],
     "prompt_number": 17
    },
    {
     "cell_type": "code",
     "collapsed": false,
     "input": [
      "# inspect dimensions | inspeccionando dimensiones\n",
      "print \"row vector dimensions:\", row_vec.ndim"
     ],
     "language": "python",
     "metadata": {},
     "outputs": [
      {
       "output_type": "stream",
       "stream": "stdout",
       "text": [
        "row vector dimensions 2\n"
       ]
      }
     ],
     "prompt_number": 18
    },
    {
     "cell_type": "code",
     "collapsed": false,
     "input": [
      "shape = row_vec.shape\n",
      "print \"row vector rows:\", shape[0], \",\", \"columns:\", shape[1]"
     ],
     "language": "python",
     "metadata": {},
     "outputs": [
      {
       "output_type": "stream",
       "stream": "stdout",
       "text": [
        "row vector rows: 1 , columns: 2\n"
       ]
      }
     ],
     "prompt_number": 40
    },
    {
     "cell_type": "code",
     "collapsed": false,
     "input": [
      "print \"matrix dimensions:\", mat.ndim"
     ],
     "language": "python",
     "metadata": {},
     "outputs": [
      {
       "output_type": "stream",
       "stream": "stdout",
       "text": [
        "matrix dimensions: 2\n"
       ]
      }
     ],
     "prompt_number": 42
    },
    {
     "cell_type": "code",
     "collapsed": false,
     "input": [
      "shape = mat.shape\n",
      "print \"matrix rows:\", shape[0], \"columns:\", shape[1]"
     ],
     "language": "python",
     "metadata": {},
     "outputs": [
      {
       "output_type": "stream",
       "stream": "stdout",
       "text": [
        "matrix rows: 2 columns: 2\n"
       ]
      }
     ],
     "prompt_number": 41
    },
    {
     "cell_type": "code",
     "collapsed": false,
     "input": [
      "# transpose | transpuesta\n",
      "vec_t = row_vec.transpose() # or row_vec.T\n",
      "print \"transposed vector\"\n",
      "print vec_t"
     ],
     "language": "python",
     "metadata": {},
     "outputs": [
      {
       "output_type": "stream",
       "stream": "stdout",
       "text": [
        "transposed vector\n",
        "[[1]\n",
        " [2]]\n"
       ]
      }
     ],
     "prompt_number": 22
    },
    {
     "cell_type": "code",
     "collapsed": false,
     "input": [
      "mat_t = mat.transpose() # or mat.T\n",
      "print \"transposed matrix\"\n",
      "print mat_t"
     ],
     "language": "python",
     "metadata": {},
     "outputs": [
      {
       "output_type": "stream",
       "stream": "stdout",
       "text": [
        "transposed matrix\n",
        "[[1 3]\n",
        " [2 4]]\n"
       ]
      }
     ],
     "prompt_number": 23
    },
    {
     "cell_type": "code",
     "collapsed": false,
     "input": [
      "# create two column vectors | creando dos vectores columna\n",
      "a = np.array([[2], [-4], [1]])\n",
      "print \"a:\", \"\\n\" , a\n",
      "b = np.array([[2], [1], [-2]])\n",
      "print \"b:\", \"\\n\", b"
     ],
     "language": "python",
     "metadata": {},
     "outputs": [
      {
       "output_type": "stream",
       "stream": "stdout",
       "text": [
        "a: \n",
        "[[ 2]\n",
        " [-4]\n",
        " [ 1]]\n",
        "b: \n",
        "[[ 2]\n",
        " [ 1]\n",
        " [-2]]\n"
       ]
      }
     ],
     "prompt_number": 50
    },
    {
     "cell_type": "code",
     "collapsed": false,
     "input": [
      "# addition | Suma\n",
      "print \"a + b\"\n",
      "print a + b"
     ],
     "language": "python",
     "metadata": {},
     "outputs": [
      {
       "output_type": "stream",
       "stream": "stdout",
       "text": [
        "a + b\n",
        "[[ 4]\n",
        " [-3]\n",
        " [-1]]\n"
       ]
      }
     ],
     "prompt_number": 27
    },
    {
     "cell_type": "code",
     "collapsed": false,
     "input": [
      "# subtraction | resta\n",
      "print \"a - b\"\n",
      "print a - b"
     ],
     "language": "python",
     "metadata": {},
     "outputs": [
      {
       "output_type": "stream",
       "stream": "stdout",
       "text": [
        "a - b\n",
        "[[ 0]\n",
        " [-5]\n",
        " [ 3]]\n"
       ]
      }
     ],
     "prompt_number": 28
    },
    {
     "cell_type": "code",
     "collapsed": false,
     "input": [
      "# scalar multiplication | multiplicaci\u00f3n escalar\n",
      "print \"1.2 * a\"\n",
      "print 1.2 * a"
     ],
     "language": "python",
     "metadata": {},
     "outputs": [
      {
       "output_type": "stream",
       "stream": "stdout",
       "text": [
        "1.2 * a\n",
        "[[ 2.4]\n",
        " [-4.8]\n",
        " [ 1.2]]"
       ]
      },
      {
       "output_type": "stream",
       "stream": "stdout",
       "text": [
        "\n"
       ]
      }
     ],
     "prompt_number": 29
    },
    {
     "cell_type": "code",
     "collapsed": false,
     "input": [
      "# element wise multiplication | multiplicaci\u00f3n elemento a elemento\n",
      "print \"a * b\"\n",
      "print a * b "
     ],
     "language": "python",
     "metadata": {},
     "outputs": [
      {
       "output_type": "stream",
       "stream": "stdout",
       "text": [
        "a * b\n",
        "[[ 4]\n",
        " [-4]\n",
        " [-2]]\n"
       ]
      }
     ],
     "prompt_number": 30
    },
    {
     "cell_type": "code",
     "collapsed": false,
     "input": [
      "# vector scalar product\n",
      "print \"a . b\"\n",
      "print np.dot(a.transpose(), b) # or np.dot(a.T, b)"
     ],
     "language": "python",
     "metadata": {},
     "outputs": [
      {
       "output_type": "stream",
       "stream": "stdout",
       "text": [
        "a . b\n",
        "[[-2]]\n"
       ]
      }
     ],
     "prompt_number": 31
    },
    {
     "cell_type": "code",
     "collapsed": false,
     "input": [
      "# vector cross product\n",
      "print \"a x b\"\n",
      "print np.cross(a, b, axis=0) # or np.cross(a.T, b.T).T"
     ],
     "language": "python",
     "metadata": {},
     "outputs": [
      {
       "output_type": "stream",
       "stream": "stdout",
       "text": [
        "a x b\n",
        "[[ 7]\n",
        " [ 6]\n",
        " [10]]\n"
       ]
      }
     ],
     "prompt_number": 33
    },
    {
     "cell_type": "code",
     "collapsed": false,
     "input": [
      "# create a indentity matrix (2 x 2)\n",
      "identity = np.array([[1, 0], [0, 1]])\n",
      "print identity"
     ],
     "language": "python",
     "metadata": {},
     "outputs": [
      {
       "output_type": "stream",
       "stream": "stdout",
       "text": [
        "[[1 0]\n",
        " [0 1]]\n"
       ]
      }
     ],
     "prompt_number": 54
    },
    {
     "cell_type": "code",
     "collapsed": false,
     "input": [
      "# matrix vector product\n",
      "print \"identity . col_vec\"\n",
      "print np.dot(identity, col_vec) #np.identity(2)"
     ],
     "language": "python",
     "metadata": {},
     "outputs": [
      {
       "output_type": "stream",
       "stream": "stdout",
       "text": [
        "identity . col_vec\n",
        "[[1]\n",
        " [2]]\n"
       ]
      }
     ],
     "prompt_number": 37
    },
    {
     "cell_type": "code",
     "collapsed": false,
     "input": [
      "# matrix product\n",
      "print \"identity . mat\"\n",
      "print np.dot(identity, mat)"
     ],
     "language": "python",
     "metadata": {},
     "outputs": [
      {
       "output_type": "stream",
       "stream": "stdout",
       "text": [
        "identity . mat\n",
        "[[1 2]\n",
        " [3 4]]\n"
       ]
      }
     ],
     "prompt_number": 39
    },
    {
     "cell_type": "heading",
     "level": 3,
     "metadata": {},
     "source": [
      "Ayuda para el curso: "
     ]
    },
    {
     "cell_type": "markdown",
     "metadata": {},
     "source": [
      "- Curso: AUTONAVx Autonomous Navigation for Flying Robots.  Linear Algebra & 2D Geomtry:  https://courses.edx.org/courses/TUMx/AUTONAVx/2T2014\n",
      "- NumPy Support in Quadrotor Simulator: https://docs.google.com/spreadsheets/d/1VDTGZfc0Zb9pEuxQ2Z9k6RP8cQLe2bHG_qyT1LgEdd8\n",
      "- Python Math Support in Quadrotor Simulator: https://docs.google.com/spreadsheets/d/1rf8zUvVuCduNBedW12evOxM3AY3zM7Qwsv-PN3TS7Z4\n",
      "- Numpy para usuarios de Matlab y Octave: http://mathesaurus.sourceforge.net/matlab-numpy.html"
     ]
    },
    {
     "cell_type": "code",
     "collapsed": false,
     "input": [],
     "language": "python",
     "metadata": {},
     "outputs": []
    }
   ],
   "metadata": {}
  }
 ]
}