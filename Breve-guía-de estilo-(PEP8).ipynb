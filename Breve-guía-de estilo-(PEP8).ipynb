{
 "metadata": {
  "name": ""
 },
 "nbformat": 3,
 "nbformat_minor": 0,
 "worksheets": [
  {
   "cells": [
    {
     "cell_type": "heading",
     "level": 1,
     "metadata": {},
     "source": [
      "Gu\u00eda de estilo para escribir c\u00f3digo Python (PEP 8)"
     ]
    },
    {
     "cell_type": "heading",
     "level": 3,
     "metadata": {},
     "source": [
      "\u00bfPor qu\u00e9 es importante?"
     ]
    },
    {
     "cell_type": "markdown",
     "metadata": {},
     "source": [
      "- Nos ayuda a mantener el c\u00f3digo (por nosotros o por otras personas).\n",
      "- El seguir un estilo nos ayuda reconocer el c\u00f3digo que volvemos a retomar dep\u00faes de meses.\n",
      "- Es m\u00e1s f\u00e1cil estudiar/entender c\u00f3digo ajeno cuando sigue un estilo."
     ]
    },
    {
     "cell_type": "heading",
     "level": 3,
     "metadata": {},
     "source": [
      "Dise\u00f1o del C\u00f3digo\n",
      "\n"
     ]
    },
    {
     "cell_type": "markdown",
     "metadata": {},
     "source": [
      "- Las reglas se pueden romper cuando hagan menos legible el c\u00f3digo. Usa tu criterio.\n",
      "- Usar 4 espacios por identaci\u00f3n (c\u00f3digo antiguo puede seguir usando 8 espacios).\n",
      "- No mezclar tabulaciones y espacios.\n",
      "- Limita todas las l\u00edneas a 79 caracteres."
     ]
    },
    {
     "cell_type": "heading",
     "level": 3,
     "metadata": {},
     "source": [
      "Importaciones"
     ]
    },
    {
     "cell_type": "markdown",
     "metadata": {},
     "source": [
      "Importaciones se colocan al comienzo del archivo. Luego de cualquier comentario o documentaci\u00f3n del m\u00f3dulo y antes de las variables globales y las constantes del m\u00f3dulo. Se agrupan en orden: Librer\u00edas est\u00e1ndar, librer\u00edas de terceros e importaciones locales."
     ]
    },
    {
     "cell_type": "code",
     "collapsed": false,
     "input": [
      "# -*- coding: utf-8 -*-\n",
      "\n",
      "# Script Python para XXXXXXXXXXXX.\n",
      "# Autor: XXXXXXXXXX\n",
      "# XXXXXXXXXXXXXXXXXXXXXXXXXXXXXXXXXX\n",
      "\n",
      "import os\n",
      "import sys\n",
      "\n",
      "import numpy as np"
     ],
     "language": "python",
     "metadata": {},
     "outputs": [],
     "prompt_number": 10
    },
    {
     "cell_type": "markdown",
     "metadata": {},
     "source": [
      "Otros ejemplos (adoptados por la comunidad) "
     ]
    },
    {
     "cell_type": "code",
     "collapsed": false,
     "input": [
      "import scipy as sp\n",
      "import matplotlib as mpl\n",
      "\n",
      "# Se pueden importar un m\u00f3dulo que contiene una clase de dos formas:\n",
      "# from myclass import MyClass\n",
      "# from foo.bar.yourclass import YourClass"
     ],
     "language": "python",
     "metadata": {},
     "outputs": [],
     "prompt_number": 40
    },
    {
     "cell_type": "heading",
     "level": 3,
     "metadata": {},
     "source": [
      "Uso de espacios"
     ]
    },
    {
     "cell_type": "markdown",
     "metadata": {},
     "source": [
      "- Usar un espacio alrededor de los operadores aritm\u00e9ticos.\n",
      "- Usar un espacio alrededor de: assignment (=), augmented assignment (+=, -= etc.), comparisons (==, <, >, !=, <>, <=, >=, in, not in, is, is not), Booleans (and, or, not).\n",
      "- No usar alrededor del signo cuando se encuentre en un listado de argumentos de una funci\u00f3n.\n",
      "- No se deben comparar booleanos mediante \"==\""
     ]
    },
    {
     "cell_type": "code",
     "collapsed": false,
     "input": [
      "Valido = True\n",
      "\n",
      "# No usar Valido == True\n",
      "if Valido:\n",
      "    pass\n",
      "\n",
      "# Observar los espacios en blanco\n",
      "i = 3 + 5\n",
      "i += 1\n",
      "c = (i + 1) * (i - 1)\n",
      "matriz_cuadrada = np.array([[1, c], [1, c]])"
     ],
     "language": "python",
     "metadata": {},
     "outputs": [],
     "prompt_number": 36
    },
    {
     "cell_type": "heading",
     "level": 3,
     "metadata": {},
     "source": [
      "Convenciones de nombrado"
     ]
    },
    {
     "cell_type": "markdown",
     "metadata": {},
     "source": [
      "- Acronimos deber\u00edan contar como una palabra: RobustHtmlParser, not RobustHTMLParser.\n",
      "- Nunca utilices caracteres \"l\" (letra l minuscula), \"O\" (letra o mayuscula) o \"i\" (letra i mayuscula) como nombre de variables de un solo caracter. En algunas fuentes estos caracteres son indistinguibles de los n\u00fameros 1 y 0."
     ]
    },
    {
     "cell_type": "markdown",
     "metadata": {},
     "source": [
      "Ejemplos de nombres: module_name, package_name, ClassName, method_name, ExceptionName, function_name, GLOBAL_CONSTANT_NAME, global_var_name, instance_var_name, function_parameter_name, local_var_name."
     ]
    },
    {
     "cell_type": "code",
     "collapsed": false,
     "input": [
      "# Cargando web en ipython notebook\n",
      "# Mostramos el apartado Naming de la web: Google Python Style Guide.\n",
      "# Observar la tabla de nombres.\n",
      "from IPython.display import HTML\n",
      "HTML('<iframe src=\"http://google-styleguide.googlecode.com/svn/trunk/pyguide.html?showone=Naming#Naming\" width=800 height=600></iframe>')"
     ],
     "language": "python",
     "metadata": {},
     "outputs": [
      {
       "html": [
        "<iframe src=\"http://google-styleguide.googlecode.com/svn/trunk/pyguide.html?showone=Naming#Naming\" width=800 height=600></iframe>"
       ],
       "metadata": {},
       "output_type": "pyout",
       "prompt_number": 25,
       "text": [
        "<IPython.core.display.HTML at 0x7fc5a493e550>"
       ]
      }
     ],
     "prompt_number": 25
    },
    {
     "cell_type": "heading",
     "level": 3,
     "metadata": {},
     "source": [
      "Uso de l\u00edneas en blanco"
     ]
    },
    {
     "cell_type": "markdown",
     "metadata": {},
     "source": [
      "- Separa funciones de alto nivel y definiciones de clase con dos l\u00edneas en blanco.\n",
      "- Separa definiciones de m\u00e9todos dentro de una clase: una l\u00ednea en blanco."
     ]
    },
    {
     "cell_type": "heading",
     "level": 3,
     "metadata": {},
     "source": [
      "Ejemplo"
     ]
    },
    {
     "cell_type": "markdown",
     "metadata": {},
     "source": [
      "Creaci\u00f3n del pybofractal (l\u00f3gotipo de Pybonacci blog). C\u00f3digo extra\u00eddo de: http://pybonacci.wordpress.com/2012/11/07/el-pybofractal-el-nuevo-logo-de-pybonacci/"
     ]
    },
    {
     "cell_type": "code",
     "collapsed": false,
     "input": [
      "# coding: utf-8\n",
      "#\n",
      "# Script Python para generar el Pybofractal.\n",
      "# Autor: Kiko Correoso\n",
      "# Colores y acomodaci\u00f3n a PEP8 por Juan Luis Cano\n",
      " \n",
      "import numpy as np\n",
      "from matplotlib import pyplot as plt\n",
      " \n",
      "def pybofractal(pto, lado, iteraciones, ax):\n",
      "    \"\"\"Genera el Pybofractal, el logo de Pybonacci.\n",
      " \n",
      "    \"\"\"\n",
      "    colors = ['#39719e', '#3d79aa', '#4385bb', '#5390c1',\n",
      "            '#70a4cb', '#ffe771', '#ffd333', '#ffcf23']\n",
      " \n",
      "    ax.axis('off')\n",
      " \n",
      "    punto1 = pto\n",
      "    punto2 = (punto1[0] + lado * np.cos(np.deg2rad(60)),\n",
      "    punto1[1] + lado * np.sin(np.deg2rad(60)))\n",
      "    punto3 = (punto1[0] + lado, punto1[1])\n",
      "    ax.fill((punto1[0], punto2[0], punto3[0], punto1[0]),\n",
      "            (punto1[1], punto2[1], punto3[1], punto1[1]),\n",
      "            edgecolor=\"w\", linewidth=2.0, facecolor=colors[0])\n",
      " \n",
      "    def cambio_coord((x, y), (x0, y0), i):\n",
      "        x1 = ((x - x0) * np.cos(np.deg2rad(360 - (i * 60))) -\n",
      "             (y - y0) * np.sin(np.deg2rad(360 - (i * 60)))) + x0\n",
      "        y1 = ((x - x0) * np.sin(np.deg2rad(360 - (i * 60))) +\n",
      "             (y - y0) * np.cos(np.deg2rad(360 - (i * 60)))) + y0\n",
      " \n",
      "        return (x1, y1)\n",
      " \n",
      "    for i in range(1, iteraciones):\n",
      "        punto1 = punto2\n",
      "        punto2 = (punto1[0] + lado * np.cos(np.deg2rad(60)) / ((2. / 3) ** i),\n",
      "                punto1[1] + lado * np.sin(np.deg2rad(60)) / ((2. / 3) ** i))\n",
      "        punto3 = (punto1[0] + lado / ((2. / 3) ** i), punto1[1])\n",
      "        punto2 = cambio_coord(punto2, punto1, i)\n",
      "        punto3 = cambio_coord(punto3, punto1, i)\n",
      "        ax.fill((punto1[0], punto2[0], punto3[0], punto1[0]),\n",
      "                (punto1[1], punto2[1], punto3[1], punto1[1]),\n",
      "                edgecolor=\"w\", linewidth=2.0 + 0.618 * i, facecolor=colors[i])\n",
      " \n",
      "fig = plt.figure(figsize=(6, 6))\n",
      "ax = fig.add_subplot(111)\n",
      "ax.set_aspect(1)\n",
      " \n",
      "pybofractal((0, 0), 1, 7, ax)\n",
      " \n",
      "plt.savefig('images/pybofractal.svg')"
     ],
     "language": "python",
     "metadata": {},
     "outputs": [],
     "prompt_number": 2
    },
    {
     "cell_type": "code",
     "collapsed": false,
     "input": [
      "# Mostrando la im\u00e1gen obtenida en ipython Notebook\n",
      "from IPython.display import SVG\n",
      "SVG(filename='images/pybofractal.svg')"
     ],
     "language": "python",
     "metadata": {},
     "outputs": [
      {
       "metadata": {},
       "output_type": "pyout",
       "prompt_number": 37,
       "svg": [
        "<svg height=\"432pt\" version=\"1.1\" viewBox=\"0 0 432 432\" width=\"432pt\" xmlns=\"http://www.w3.org/2000/svg\" xmlns:xlink=\"http://www.w3.org/1999/xlink\">\n",
        " <defs>\n",
        "  <style type=\"text/css\">\n",
        "*{stroke-linecap:butt;stroke-linejoin:round;}\n",
        "  </style>\n",
        " </defs>\n",
        " <g id=\"figure_1\">\n",
        "  <g id=\"patch_1\">\n",
        "   <path d=\" M0 432 L432 432 L432 0 L0 0 z \" style=\"fill:#ffffff;\"/>\n",
        "  </g>\n",
        "  <g id=\"axes_1\">\n",
        "   <g id=\"patch_2\">\n",
        "    <path clip-path=\"url(#pd58e14e7ea)\" d=\" M255.96 302.4 L264.6 287.435 L273.24 302.4 z \" style=\"fill:#39719e;stroke:#ffffff;stroke-width:2.0;\"/>\n",
        "   </g>\n",
        "   <g id=\"patch_3\">\n",
        "    <path clip-path=\"url(#pd58e14e7ea)\" d=\" M264.6 287.435 L290.52 287.435 L277.56 309.882 z \" style=\"fill:#3d79aa;stroke:#ffffff;stroke-width:2.618;\"/>\n",
        "   </g>\n",
        "   <g id=\"patch_4\">\n",
        "    <path clip-path=\"url(#pd58e14e7ea)\" d=\" M290.52 287.435 L309.96 321.106 L271.08 321.106 z \" style=\"fill:#4385bb;stroke:#ffffff;stroke-width:3.236;\"/>\n",
        "   </g>\n",
        "   <g id=\"patch_5\">\n",
        "    <path clip-path=\"url(#pd58e14e7ea)\" d=\" M309.96 321.106 L280.8 371.613 L251.64 321.106 z \" style=\"fill:#5390c1;stroke:#ffffff;stroke-width:3.854;\"/>\n",
        "   </g>\n",
        "   <g id=\"patch_6\">\n",
        "    <path clip-path=\"url(#pd58e14e7ea)\" d=\" M280.8 371.613 L193.32 371.613 L237.06 295.853 z \" style=\"fill:#70a4cb;stroke:#ffffff;stroke-width:4.472;\"/>\n",
        "   </g>\n",
        "   <g id=\"patch_7\">\n",
        "    <path clip-path=\"url(#pd58e14e7ea)\" d=\" M193.32 371.613 L127.71 257.973 L258.93 257.973 z \" style=\"fill:#ffe771;stroke:#ffffff;stroke-width:5.09;\"/>\n",
        "   </g>\n",
        "   <g id=\"patch_8\">\n",
        "    <path clip-path=\"url(#pd58e14e7ea)\" d=\" M127.71 257.973 L226.125 87.5131 L324.54 257.973 z \" style=\"fill:#ffd333;stroke:#ffffff;stroke-width:5.708;\"/>\n",
        "   </g>\n",
        "  </g>\n",
        " </g>\n",
        " <defs>\n",
        "  <clipPath id=\"pd58e14e7ea\">\n",
        "   <rect height=\"345.6\" width=\"207.36\" x=\"117.72\" y=\"43.2\"/>\n",
        "  </clipPath>\n",
        " </defs>\n",
        "</svg>"
       ],
       "text": [
        "<IPython.core.display.SVG at 0x7fc5a52dfbd0>"
       ]
      }
     ],
     "prompt_number": 37
    },
    {
     "cell_type": "heading",
     "level": 3,
     "metadata": {},
     "source": [
      "Otros"
     ]
    },
    {
     "cell_type": "markdown",
     "metadata": {},
     "source": [
      "Los programas pueden convertirse en ejecutables (en los sistemas Unix y BSD) poniendo al principio del archivo:"
     ]
    },
    {
     "cell_type": "code",
     "collapsed": false,
     "input": [
      "#! /usr/bin/env python"
     ],
     "language": "python",
     "metadata": {},
     "outputs": [],
     "prompt_number": 11
    },
    {
     "cell_type": "markdown",
     "metadata": {},
     "source": [
      "Para dar permiso de ejecuci\u00f3n al script usa el siguiente comando en un terminal: chmod +x myscript.py"
     ]
    },
    {
     "cell_type": "heading",
     "level": 3,
     "metadata": {},
     "source": [
      "Art\u00edculos usados:"
     ]
    },
    {
     "cell_type": "markdown",
     "metadata": {},
     "source": [
      "- Gu\u00eda de estilo para el c\u00f3digo Python - PEP 8 en Espa\u00f1ol http://mundogeek.net/traducciones/guia-estilo-python.htm\n",
      "- Importaci\u00f3n de librer\u00edas Numpy y Scipy: http://docs.scipy.org/doc/scipy/reference/tutorial/general.html\n",
      "- Python Guides Lines, EdX: https://github.com/edx/edx-platform/wiki/Python-Guidelines\n",
      "- Tutorial de Python 2.x y 3.x: http://docs.python.org.ar/tutorial/index.html\n",
      "- Google Python Style Guide: http://google-styleguide.googlecode.com/svn/trunk/pyguide.html\n",
      "- http://suave.stanford.edu/docs/display/SUave/Style+Guide\n",
      "- Para saber m\u00e1s sobre ipython Notebook: http://nbviewer.ipython.org/github/damianavila/SciPyConAr_Python_Cientifico/blob/master/IPython%20notebook.ipynb"
     ]
    },
    {
     "cell_type": "code",
     "collapsed": false,
     "input": [],
     "language": "python",
     "metadata": {},
     "outputs": [],
     "prompt_number": 13
    }
   ],
   "metadata": {}
  }
 ]
}